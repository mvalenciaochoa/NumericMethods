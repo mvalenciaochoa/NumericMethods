{
  "nbformat": 4,
  "nbformat_minor": 0,
  "metadata": {
    "colab": {
      "provenance": [],
      "collapsed_sections": []
    },
    "kernelspec": {
      "name": "python3",
      "display_name": "Python 3"
    },
    "language_info": {
      "name": "python"
    }
  },
  "cells": [
    {
      "cell_type": "markdown",
      "metadata": {
        "id": "crueJ0_aWd7s"
      },
      "source": [
        "Busquedas Incrementales (Input: f(x) = 0 ; x0 ; deltaX\n",
        "*texto en cursiva*)"
      ]
    },
    {
      "cell_type": "code",
      "metadata": {
        "id": "dIgfWfFiWtce",
        "colab": {
          "base_uri": "https://localhost:8080/",
          "height": 37
        },
        "outputId": "f5cffb2d-3eec-4720-9f2b-f2b43988b3df"
      },
      "source": [
        "import sympy as sym\n",
        "x = sym.Symbol('x')\n",
        "\n",
        "def busquedasIncrementales (f, x0, deltax, numIteracion):\n",
        "  if f.subs(x, x0) == 0:\n",
        "    return (str(x0) + \" Es una raíz de \" + str(f))\n",
        "  else: \n",
        "    xn = x0 + deltax\n",
        "    iter = 0\n",
        "  while (numIteracion > iter and (f.subs(x,x0) * f.subs(x,xn)) > 0):\n",
        "    x0 = xn\n",
        "    xn = x0 + deltax\n",
        "    iter += 1\n",
        "  if f.subs(x,xn) == 0:\n",
        "    return (str(xn) + \" Es una raíz de \" + str(f))\n",
        "  elif (f.subs(x,x0) * f.subs(x,xn)) < 0:\n",
        "    return (\"Existe una raíz de \" + str(f) + \" entre \" + str(x0) + \" y \" + str(xn))\n",
        "  else:\n",
        "    return (\"No se han encontrado raices\")\n",
        "\n",
        "busquedasIncrementales(x**3 - 7.51*x**2 + 18.4239*x - 14.8331, 0, 0.5, 1000)\n"
      ],
      "execution_count": null,
      "outputs": [
        {
          "output_type": "execute_result",
          "data": {
            "application/vnd.google.colaboratory.intrinsic+json": {
              "type": "string"
            },
            "text/plain": [
              "'Existe una raíz de x**3 - 7.51*x**2 + 18.4239*x - 14.8331 entre 3.0 y 3.5'"
            ]
          },
          "metadata": {},
          "execution_count": 10
        }
      ]
    },
    {
      "cell_type": "markdown",
      "metadata": {
        "id": "wbnp7bobaEXL"
      },
      "source": [
        "Método de la bisección (Tiene que haber una raíz en el intervalo)\n",
        "\n",
        "Input (xi, xf, f(x), tolerancia, num iteraciones)"
      ]
    },
    {
      "cell_type": "code",
      "metadata": {
        "id": "fLazQmyDbZoI",
        "colab": {
          "base_uri": "https://localhost:8080/",
          "height": 37
        },
        "outputId": "70e7fa65-03a7-437a-e5cf-42e886003ea3"
      },
      "source": [
        "import sympy as sym\n",
        "x = sym.Symbol('x')\n",
        "\n",
        "def biseccion(f,xi, xf, tol, numIter):\n",
        "  if (f.subs(x,xi) * f.subs(x,xf) == 0):\n",
        "    if (f.subs(x,xi) == 0):\n",
        "      return(\"Hay una raíz de \" + str(f) + \" en \" + str(xi))\n",
        "    if (f.subs(x,xf) == 0):\n",
        "      return(\"Hay una raíz de \" + str(f) + \" en \" + str(xf))\n",
        "  elif (f.subs(x,xi) * f.subs(x,xf) > 0):\n",
        "    return(\"No se encuentran raices de \" + str(f) )\n",
        "  else: \n",
        "    xm = (xi + xf)/2\n",
        "    numIteracion = 0\n",
        "    error = abs(xi-xm)\n",
        "    while (error>tol and numIteracion<numIter and f.subs(x,xm) != 0):\n",
        "      if (f.subs(x,xi) * f.subs(x,xm) < 0):\n",
        "        xf = xm\n",
        "      else: \n",
        "        xi = xm\n",
        "      xm = (xi + xf) / 2\n",
        "      error = abs(xm - xi)\n",
        "      numIteracion += 1\n",
        "    if (f.subs(x,xm) == 0):\n",
        "      return(\"Se halló una raíz en \" + str(xm) )\n",
        "    elif error < tol: \n",
        "      return( str(xm) + \" es raíz, con una toleracia de \" + str(tol))\n",
        "    else:\n",
        "      return(\"No se halló una solución\")\n",
        "\n",
        "biseccion(x**3 + 2*x**2 - x -1 ,-3, -1  , 0.01, 50)\n"
      ],
      "execution_count": null,
      "outputs": [
        {
          "output_type": "execute_result",
          "data": {
            "application/vnd.google.colaboratory.intrinsic+json": {
              "type": "string"
            },
            "text/plain": [
              "'-2.2421875 es raíz, con una toleracia de 0.01'"
            ]
          },
          "metadata": {},
          "execution_count": 11
        }
      ]
    },
    {
      "cell_type": "markdown",
      "metadata": {
        "id": "czsa5CLLjQHt"
      },
      "source": [
        "Método de Regla falsa (Intervalo con una raíz)\n",
        "Input (xi, xf, f(x), tolerancia, num iteraciones)"
      ]
    },
    {
      "cell_type": "code",
      "metadata": {
        "id": "zNWx39rMjhmS",
        "colab": {
          "base_uri": "https://localhost:8080/",
          "height": 37
        },
        "outputId": "4ad54de0-e602-4f65-ecba-c016e71a7d15"
      },
      "source": [
        "import sympy as sym\n",
        "x = sym.Symbol('x')\n",
        "\n",
        "def reglaFalsa (f,xi, xf, tol, numIter):\n",
        "  if (f.subs(x,xi) * f.subs(x,xf) == 0):\n",
        "    if (f.subs(x,xi) == 0):\n",
        "      return(\"Hay una raíz de \" + str(f) + \" en \" + str(xi))\n",
        "    if (f.subs(x,xf) == 0):\n",
        "      return(\"Hay una raíz de \" + str(f) + \" en \" + str(xf))\n",
        "  elif (f.subs(x,xi) * f.subs(x,xf) > 0):\n",
        "    return(\"No se encuentran raices de \" + str(f) )\n",
        "  else: \n",
        "    xm = xf -((f.subs(x,xf)*(xi-xf))/(f.subs(x,xi)-f.subs(x,xf)))\n",
        "    xm = float(xm)\n",
        "    numIteracion = 0\n",
        "    error = abs(xi-xm)\n",
        "    while (error>tol and numIteracion<numIter and f.subs(x,xm) != 0):\n",
        "      if (f.subs(x,xi) * f.subs(x,xm) < 0):\n",
        "        xf = xm\n",
        "      else: \n",
        "        xi = xm\n",
        "      xm = xf -((f.subs(x,xf)*(xi-xf))/(f.subs(x,xi)-f.subs(x,xf)))\n",
        "      xm = float(xm)\n",
        "      error = abs(xm - xf)\n",
        "      numIteracion += 1\n",
        "    if (f.subs(x,xm) == 0):\n",
        "      return(\"Se halló una raíz en \" + str(xm) )\n",
        "    elif error < tol: \n",
        "      return( str(xm) + \" Es raíz con una toleracia de \" + str(tol))\n",
        "    else:\n",
        "      return(\"No se halló una solución\")\n",
        "\n",
        "reglaFalsa (x**3 + 2*x**2 - x -1,-3, -1 , 0.01, 50)"
      ],
      "execution_count": null,
      "outputs": [
        {
          "output_type": "execute_result",
          "data": {
            "application/vnd.google.colaboratory.intrinsic+json": {
              "type": "string"
            },
            "text/plain": [
              "'-2.242219891494217 Es raíz con una toleracia de 0.01'"
            ]
          },
          "metadata": {},
          "execution_count": 12
        }
      ]
    },
    {
      "cell_type": "code",
      "metadata": {
        "id": "Q7jqIvQ7udsw"
      },
      "source": [],
      "execution_count": null,
      "outputs": []
    },
    {
      "cell_type": "markdown",
      "metadata": {
        "id": "9YcSDFCcqmMI"
      },
      "source": [
        "Método de punto fijo (Método abierto)\n",
        "Input (g(x) = x, x0, numIterations, tol\n"
      ]
    },
    {
      "cell_type": "code",
      "metadata": {
        "colab": {
          "base_uri": "https://localhost:8080/",
          "height": 37
        },
        "id": "fsYbf2LPrbDc",
        "outputId": "1c0f522b-f548-4975-eb4d-263f25bf1cba"
      },
      "source": [
        "import sympy as sym\n",
        "from math import e\n",
        "from math import sqrt\n",
        "x = sym.Symbol('x')\n",
        "\n",
        "def puntoFijo(f,x0,numIter, tol):\n",
        "  g= -(f-x)\n",
        "  iter = 0\n",
        "  error = tol + 1\n",
        "  while (iter < numIter and error > tol):\n",
        "    xn = float(g.subs(x,x0))\n",
        "    error = abs(xn - x0)\n",
        "    iter += 1\n",
        "    x0 = xn\n",
        "  if error <= tol:\n",
        "    return(str(xn) + \" es raíz con tolerancia de \" + str(tol))\n",
        "  else:\n",
        "    return(\"El método no converge\")\n",
        "f = x**3 + 2*x**2 - x -1\n",
        "puntoFijo(f, 1, 100, 0.00001)"
      ],
      "execution_count": null,
      "outputs": [
        {
          "output_type": "execute_result",
          "data": {
            "application/vnd.google.colaboratory.intrinsic+json": {
              "type": "string"
            },
            "text/plain": [
              "'El método no converge'"
            ]
          },
          "metadata": {},
          "execution_count": 13
        }
      ]
    },
    {
      "cell_type": "markdown",
      "metadata": {
        "id": "HQaPix2Q3woP"
      },
      "source": [
        "Método de secante"
      ]
    },
    {
      "cell_type": "code",
      "metadata": {
        "id": "pyJgtSjR3zX5",
        "colab": {
          "base_uri": "https://localhost:8080/",
          "height": 36
        },
        "outputId": "3707adfd-89db-42a7-df09-1e9b0cb16698"
      },
      "source": [
        "import sympy as sym\n",
        "x = sym.Symbol('x')\n",
        "\n",
        "def metodoSecante(f,x0,x1,numIter,tol):\n",
        "  iter = 0\n",
        "  while iter <= numIter:\n",
        "    newX1 = float(x1 - (f.subs(x, x1)*((x1 - x0) / (f.subs(x, x1) - f.subs(x, x0)))))\n",
        "    if f.subs(x, x0) == 0:\n",
        "      return(str(x0) + \" Es una raíz de \" + str(f))\n",
        "    elif abs(newX1 - x1) <= tol:\n",
        "      return(str(newX1) + \" es raíz con tolerancia \" + str(tol) + \" con numero de iteraciones \" + str(iter) )\n",
        "    elif iter > numIter:\n",
        "      return(\"El metodo no converge en estas iteraciones \" + str(iter))\n",
        "    else:\n",
        "      iter += 1\n",
        "      x0 = x1\n",
        "      x1 = newX1\n",
        "f = x - (3*x/(x**2 + 9)**(1/2)) -7/40\n",
        "metodoSecante(f, 1, 2, 1000, 0.00005)\n"
      ],
      "execution_count": null,
      "outputs": [
        {
          "output_type": "execute_result",
          "data": {
            "application/vnd.google.colaboratory.intrinsic+json": {
              "type": "string"
            },
            "text/plain": [
              "'1.5568729594399748 es raíz con tolerancia 5e-05 con numero de iteraciones 4'"
            ]
          },
          "metadata": {},
          "execution_count": 6
        }
      ]
    },
    {
      "cell_type": "markdown",
      "metadata": {
        "id": "JZE0rNa73zsI"
      },
      "source": [
        "Método de Newton"
      ]
    },
    {
      "cell_type": "code",
      "metadata": {
        "colab": {
          "base_uri": "https://localhost:8080/",
          "height": 55
        },
        "id": "ANm9Y-nx32Bn",
        "outputId": "754c46bd-037c-4073-847d-43f804fa532a"
      },
      "source": [
        "import sympy as sym\n",
        "import math\n",
        "x = sym.Symbol('x')\n",
        "def Newton (f, df, x0, numIter, tol):\n",
        "  cont = 0\n",
        "  error = tol + 1\n",
        "  while (cont < numIter and error > tol):\n",
        "    xn = x0 - float(f.subs(x, x0))/float(df.subs(x, x0))\n",
        "    error = abs(xn - x0)\n",
        "    cont += 1\n",
        "    x0 = xn\n",
        "  if error <= tol:\n",
        "    return(str(xn) + \" es raíz con tolerancia \" + str(tol)+ \" y el algorítmo paró en la iteración: \" + str(cont))\n",
        "  else:\n",
        "    return(\"El método no converge\")\n",
        "\n",
        "f = x - (3*x/(x**2 + 9)**(1/2))- 7/40\n",
        "df = sym.diff(f, x)\n",
        "Newton(f, df, 1, 10000, 0.00005)\n"
      ],
      "execution_count": null,
      "outputs": [
        {
          "output_type": "execute_result",
          "data": {
            "application/vnd.google.colaboratory.intrinsic+json": {
              "type": "string"
            },
            "text/plain": [
              "'1.5568729690787846 es raíz con tolerancia 5e-05 y el algorítmo paró en la iteración: 5'"
            ]
          },
          "metadata": {},
          "execution_count": 15
        }
      ]
    },
    {
      "cell_type": "markdown",
      "metadata": {
        "id": "jw3b7TQGtBq7"
      },
      "source": [
        "Raíces multiples"
      ]
    },
    {
      "cell_type": "code",
      "metadata": {
        "colab": {
          "base_uri": "https://localhost:8080/",
          "height": 37
        },
        "id": "7OmPV3UOAk3k",
        "outputId": "a188e890-0801-44e8-f394-3df57b543f0e"
      },
      "source": [
        "import sympy as sym\n",
        "import math\n",
        "x = sym.Symbol('x')\n",
        "\n",
        "def RaicesMultiples (f, df, dff, x0, numIter, tol):\n",
        "  iter = 0\n",
        "  error = tol + 1\n",
        "  while (iter < numIter and error > tol):\n",
        "    xn = x0 - (float(f.subs(x, x0)*df.subs(x,x0))/float(df.subs(x, x0)**2-(f.subs(x, x0)*dff.subs(x,x0))))\n",
        "    error = abs(xn - x0)\n",
        "    iter += 1\n",
        "    x0 = xn\n",
        "  if error <= tol:\n",
        "    return(str(xn) + \" es raíz con tolerancia \" + str(tol))\n",
        "  else:\n",
        "    return(\"El método no converge\")\n",
        "\n",
        "f = x**3 + 2*x**2 - x -1 \n",
        "df = sym.diff(f, x)\n",
        "dff= sym.diff(df,x)\n",
        "RaicesMultiples(f, df, dff, -3, 1000, 0.01)\n"
      ],
      "execution_count": null,
      "outputs": [
        {
          "output_type": "execute_result",
          "data": {
            "application/vnd.google.colaboratory.intrinsic+json": {
              "type": "string"
            },
            "text/plain": [
              "'-2.2469574672755273 es raíz con tolerancia 0.01'"
            ]
          },
          "metadata": {},
          "execution_count": 16
        }
      ]
    },
    {
      "cell_type": "markdown",
      "metadata": {
        "id": "PQKrjHUkpisA"
      },
      "source": [
        "Eliminación Gaussiana\n",
        "Input (matriz A, vector fila b, tamaño n)\n"
      ]
    },
    {
      "cell_type": "code",
      "metadata": {
        "colab": {
          "base_uri": "https://localhost:8080/"
        },
        "id": "O_UNq_bcpxzu",
        "outputId": "a626e127-36da-43be-9750-4b6356b4d232"
      },
      "source": [
        "import numpy as np\n",
        "def eliminacionGaussiana(A, b):\n",
        "  n = b.size\n",
        "  Ab =  np.append(A,b, axis=1)\n",
        "  for k in range(n):\n",
        "    for i in range(k+1,n):\n",
        "      mult = Ab[i][k] / Ab[k][k]\n",
        "      for j in range(k,n+1):\n",
        "        Ab[i][j]=Ab[i][j]-mult*Ab[k][j]\n",
        "  x = np.zeros(n)\n",
        "  x[n-1]=Ab[n-1][n]/Ab[n-1][n-1]\n",
        "  for i in range(n-1,-1,-1):\n",
        "    sum= 0 \n",
        "    for p in range(i+1,n):\n",
        "      sum = sum + Ab[i][p] * x[p]\n",
        "    x[i] = (Ab[i][n]-sum)/Ab[i][i]\n",
        "  return x\n",
        "\n",
        "\n",
        "A = np.array([[2,-1,-3,2],[5,-10,2,-6],[5,-9,15,-6],[2,1,-1,10]],dtype='f')\n",
        "b = np.array([[4],[3],[2],[1]])\n",
        "\n",
        "A = np.array([[1, 1, 1],[4,2,1],[20.25,4.5,1]])\n",
        "b = np.array([[2.5],[5],[6.7]])\n",
        "\n",
        "A = np.array([[5,-1],[2,3]])\n",
        "b= np.array([[4],[5]])\n",
        "A = np.array([[1, 1, 1],[4,2,1],[20.25,4.5,1]])\n",
        "b = np.array([[2.5],[5],[6.7]])\n",
        "\n",
        "A = np.array([[2,-1,-3,2],[5,-10,2,-6],[5,-9,15,-6],[2,1,-1,10]],dtype='f')\n",
        "b = np.array([[4],[3],[2],[1]])\n",
        "\n",
        "print(\"El vector x resultante será: \")\n",
        "print(eliminacionGaussiana(A,b))"
      ],
      "execution_count": null,
      "outputs": [
        {
          "output_type": "stream",
          "name": "stdout",
          "text": [
            "El vector x resultante será: \n",
            "[ 3.34121622  1.78885135 -0.21452703 -0.76858108]\n"
          ]
        }
      ]
    },
    {
      "cell_type": "markdown",
      "metadata": {
        "id": "ygo-nhxRHaYy"
      },
      "source": [
        "Pivoteo parcial"
      ]
    },
    {
      "cell_type": "code",
      "metadata": {
        "colab": {
          "base_uri": "https://localhost:8080/"
        },
        "id": "dCT8JNOHvNOM",
        "outputId": "02812f0c-3da5-4147-cb5b-d47cfc02e252"
      },
      "source": [
        "import numpy as np\n",
        "def pivoteoParcial(A, b):\n",
        "  n = b.size\n",
        "  Ab =  np.append(A,b, axis=1)\n",
        "  for k in range(n):\n",
        "    c = max(abs(Ab[k:,k]))\n",
        "    index = list(abs(Ab[:,k])).index(c)\n",
        "    maxx = np.array(Ab[index,:],dtype=float)\n",
        "    Ab[index,:] = np.array(Ab[k,:],dtype=float)\n",
        "    Ab[k,:] = maxx\n",
        "    Ab = np.array(Ab,dtype=float)\n",
        "    for i in range(k+1,n):\n",
        "      mult = Ab[i][k] / Ab[k][k]\n",
        "      for j in range(k,n+1):\n",
        "        Ab[i][j]=Ab[i][j]-mult*Ab[k][j]\n",
        "  x = np.zeros(n)\n",
        "  x[n-1]=Ab[n-1][n]/Ab[n-1][n-1]\n",
        "  for i in range(n-1,-1,-1):\n",
        "    sum= 0 \n",
        "    for p in range(i+1,n):\n",
        "      sum = sum + Ab[i][p] * x[p]\n",
        "    x[i] = (Ab[i][n]-sum)/Ab[i][i]\n",
        "  return x\n",
        "\n",
        "\n",
        "A = np.array([[-7, 2, -3, 4],[5,-1,14,-1],[1,9,-7,5],[-12,13,-8,-4]])\n",
        "b = np.array([[-12],[13],[31],[-32]])\n",
        "\n",
        "\n",
        "print(\"El vector x resultante será: \")\n",
        "print(pivoteoParcial(A,b))"
      ],
      "execution_count": null,
      "outputs": [
        {
          "output_type": "stream",
          "name": "stdout",
          "text": [
            "El vector x resultante será: \n",
            "[ 3.62438703  1.60345459 -0.07377589  2.48561809]\n"
          ]
        }
      ]
    },
    {
      "cell_type": "markdown",
      "metadata": {
        "id": "0ZDMhiTB1BA6"
      },
      "source": [
        "Pivoteo total"
      ]
    },
    {
      "cell_type": "code",
      "metadata": {
        "colab": {
          "base_uri": "https://localhost:8080/"
        },
        "id": "k_qX1Rd8Buu9",
        "outputId": "0fa44f33-aa21-4e02-89f4-5c13802d270b"
      },
      "source": [
        "import numpy as np\n",
        "\n",
        "def pivoteoTotal(A, b):\n",
        "  n = b.size\n",
        "  Ab =  np.append(A,b, axis=1)\n",
        "  Ab = np.array(Ab,dtype=float)\n",
        "  x = np.array(list(range(n)))\n",
        "  for k in range(0,n):\n",
        "    A = Ab[:,:-1]\n",
        "    c = abs(A[k:,k:]).max()\n",
        "    index = np.where(abs(A)==c)\n",
        "\n",
        "    c_temp = Ab[:,index[1][0]].copy()\n",
        "    Ab[:,index[1][0]]= Ab[:,k].copy()\n",
        "    Ab[:,k] = c_temp\n",
        "\n",
        "    x_temp= x[index[1][0]]\n",
        "    x[index[1][0]]= x[k]\n",
        "    x[k]= x_temp\n",
        "\n",
        "    r_temp= Ab[index[0][0],:].copy()\n",
        "    Ab[index[0][0],:]= Ab[k,:].copy()\n",
        "    Ab[k,:] = r_temp\n",
        "\n",
        "    Ab[k,:]= Ab[k,:]*(1/c)\n",
        "\n",
        "    for i in range(0,n):\n",
        "      if i != k:\n",
        "        Ab[i,:]= Ab[i,:].copy()+Ab[k,:].copy()*(-Ab[i,k].copy())\n",
        "\n",
        "  S= Ab[:,-1]\n",
        "  B= []\n",
        "  for i in range(0,n):\n",
        "    B.append(S[np.where(x==i)])\n",
        "  return B\n",
        "\n",
        "A = np.array([[-7, 2, -3, 4],[5,-1,14,-1],[1,9,-7,5],[-12,13,-8,-4]])\n",
        "b = np.array([[-12],[13],[31],[-32]])\n",
        "\n",
        "pivoteoTotal(A,b)"
      ],
      "execution_count": null,
      "outputs": [
        {
          "output_type": "execute_result",
          "data": {
            "text/plain": [
              "[array([3.62438703]),\n",
              " array([1.60345459]),\n",
              " array([-0.07377589]),\n",
              " array([2.48561809])]"
            ]
          },
          "metadata": {},
          "execution_count": 8
        }
      ]
    },
    {
      "cell_type": "markdown",
      "metadata": {
        "id": "RL-uwCQ3Hf6g"
      },
      "source": [
        "Factorización LU"
      ]
    },
    {
      "cell_type": "code",
      "metadata": {
        "id": "82insYJeON4X",
        "colab": {
          "base_uri": "https://localhost:8080/"
        },
        "outputId": "f11b056c-906b-45e9-fb50-00da5e111921"
      },
      "source": [
        "import numpy as np\n",
        "def factorizacionLU(A):\n",
        "    n, m = A.shape\n",
        "    P = np.identity(n)\n",
        "    L = np.identity(n)\n",
        "    U = A.copy()\n",
        "    PF = np.identity(n)\n",
        "    LF = np.zeros((n,n))\n",
        "    for k in range(0, n - 1):\n",
        "        index = np.argmax(abs(U[k:,k]))\n",
        "        index = index + k \n",
        "        if index != k:\n",
        "            P = np.identity(n)\n",
        "            P[[index,k],k:n] = P[[k,index],k:n]\n",
        "            U[[index,k],k:n] = U[[k,index],k:n] \n",
        "            PF = np.dot(P,PF)\n",
        "            LF = np.dot(P,LF)\n",
        "        L = np.identity(n)\n",
        "        for j in range(k+1,n):\n",
        "            L[j,k] = -(U[j,k] / U[k,k])\n",
        "            LF[j,k] = (U[j,k] / U[k,k])\n",
        "        U = np.dot(L,U)\n",
        "    np.fill_diagonal(LF, 1)\n",
        "    return  LF, U\n",
        "\n",
        "\n",
        "A = np.array([[3,-1,1],[1,-8,-2],[1,1,5]])\n",
        "L,U=factorizacionLU(A)\n",
        "print(L)\n",
        "print(U)"
      ],
      "execution_count": null,
      "outputs": [
        {
          "output_type": "stream",
          "name": "stdout",
          "text": [
            "[[ 1.          0.          0.        ]\n",
            " [ 0.33333333  1.          0.        ]\n",
            " [ 0.33333333 -0.17391304  1.        ]]\n",
            "[[ 3.         -1.          1.        ]\n",
            " [ 0.         -7.66666667 -2.33333333]\n",
            " [ 0.          0.          4.26086957]]\n"
          ]
        }
      ]
    },
    {
      "cell_type": "markdown",
      "metadata": {
        "id": "WnDFRrCLHtW8"
      },
      "source": [
        "Jacobi"
      ]
    },
    {
      "cell_type": "code",
      "metadata": {
        "colab": {
          "base_uri": "https://localhost:8080/",
          "height": 37
        },
        "id": "SWzrOF6p8Tpn",
        "outputId": "1b3c29b9-c8d8-4958-ee7e-3aaca29a998d"
      },
      "source": [
        "from numpy.linalg import inv\n",
        "def jacobi(A,b,tol,numIter):\n",
        "  n = np.size(A,0)\n",
        "  L = - np.tril(A, -1)\n",
        "  U = - np.triu(A,1)\n",
        "  D = A+L+U\n",
        "  x0 = np.zeros([n,1])\n",
        "  Tj = np.matmul(inv(D),(L+U))\n",
        "  autovalores, autovectores = np.linalg.eig(Tj)\n",
        "  autovalores = abs(autovalores)\n",
        "\n",
        "  for lam in autovalores:\n",
        "    if lam >= 1:\n",
        "      return (\"El método no converge.\")\n",
        "\n",
        "  C = np.matmul(inv(D),b)\n",
        "  xn = (np.matmul(Tj,x0))+C\n",
        "  error = np.array(abs(xn - (np.dot(Tj,xn)+C)))\n",
        "  error = np.amax(error)\n",
        "  iter = 0\n",
        "  while ((error > tol) and (iter<numIter)):\n",
        "    nuevo = np.matmul(Tj,xn)+C\n",
        "    error = np.array(abs(nuevo-xn))\n",
        "    error = np.amax(error)\n",
        "    xn = nuevo\n",
        "    iter = iter +1\n",
        "  return(\"El método converge en \"+str(xn))\n",
        "\n",
        "\n",
        "A = np.array([[3,-1,1],[1,-8,-2],[1,1,5]])\n",
        "b = np.array([[-2],[1],[4]])\n",
        "tol = 10^(-5)\n",
        "jacobi(A,b,tol,20)\n",
        "\n"
      ],
      "execution_count": null,
      "outputs": [
        {
          "output_type": "execute_result",
          "data": {
            "application/vnd.google.colaboratory.intrinsic+json": {
              "type": "string"
            },
            "text/plain": [
              "'El método converge en [[-1.24489785]\\n [-0.5714285 ]\\n [ 1.16326523]]'"
            ]
          },
          "metadata": {},
          "execution_count": 20
        }
      ]
    },
    {
      "cell_type": "markdown",
      "metadata": {
        "id": "gbZChkRYHuq7"
      },
      "source": [
        "Gauss-Seidel"
      ]
    },
    {
      "cell_type": "code",
      "metadata": {
        "colab": {
          "base_uri": "https://localhost:8080/",
          "height": 239
        },
        "id": "4PT72h1qMTPc",
        "outputId": "d603efd4-65a0-4f65-f6f1-a5459857f1a1"
      },
      "source": [
        "from numpy.linalg import inv\n",
        "def GaussSeidel(A,b,tol,numIter):\n",
        "  n = np.size(A,0)\n",
        "  L = - np.tril(A, -1)\n",
        "  U = - np.triu(A,1)\n",
        "  D = A+L+U\n",
        "  x0 = np.zeros([n,1])\n",
        "  Tg = np.matmul(inv(D-L),U)\n",
        "  autovalores, autovectores = np.linalg.eig(Tg)\n",
        "  autovalores = abs(autovalores)\n",
        "\n",
        "  for lam in autovalores:\n",
        "    if lam >= 1:\n",
        "      return (\"El método no converge.\")\n",
        "\n",
        "  C = np.matmul(inv(D-L),b)\n",
        "  xn = (np.matmul(Tg,x0))+C\n",
        "  error = np.array(abs(xn - (np.dot(Tg,xn)+C)))\n",
        "  error = np.amax(error)\n",
        "  iter = 0\n",
        "  while ((error > tol) and (iter<numIter)):\n",
        "    nuevo = np.matmul(Tg,xn)+C\n",
        "    error = np.array(abs(nuevo-xn))\n",
        "    error = np.amax(error)\n",
        "    xn = nuevo\n",
        "    iter = iter +1\n",
        "  return(\"El método converge en \"+str(xn))\n",
        "\n",
        "\n",
        "A = np.array([[3,-1,1],[1,-8,-2],[1,1,5]])\n",
        "b = np.array([[-2],[1],[4]])\n",
        "tol = 10^(-5)\n",
        "GaussSeidel(A,b,tol,20)"
      ],
      "execution_count": null,
      "outputs": [
        {
          "output_type": "error",
          "ename": "NameError",
          "evalue": "ignored",
          "traceback": [
            "\u001b[0;31m---------------------------------------------------------------------------\u001b[0m",
            "\u001b[0;31mNameError\u001b[0m                                 Traceback (most recent call last)",
            "\u001b[0;32m<ipython-input-1-eae9bf406160>\u001b[0m in \u001b[0;36m<module>\u001b[0;34m()\u001b[0m\n\u001b[1;32m     28\u001b[0m \u001b[0;34m\u001b[0m\u001b[0m\n\u001b[1;32m     29\u001b[0m \u001b[0;34m\u001b[0m\u001b[0m\n\u001b[0;32m---> 30\u001b[0;31m \u001b[0mA\u001b[0m \u001b[0;34m=\u001b[0m \u001b[0mnp\u001b[0m\u001b[0;34m.\u001b[0m\u001b[0marray\u001b[0m\u001b[0;34m(\u001b[0m\u001b[0;34m[\u001b[0m\u001b[0;34m[\u001b[0m\u001b[0;36m3\u001b[0m\u001b[0;34m,\u001b[0m\u001b[0;34m-\u001b[0m\u001b[0;36m1\u001b[0m\u001b[0;34m,\u001b[0m\u001b[0;36m1\u001b[0m\u001b[0;34m]\u001b[0m\u001b[0;34m,\u001b[0m\u001b[0;34m[\u001b[0m\u001b[0;36m1\u001b[0m\u001b[0;34m,\u001b[0m\u001b[0;34m-\u001b[0m\u001b[0;36m8\u001b[0m\u001b[0;34m,\u001b[0m\u001b[0;34m-\u001b[0m\u001b[0;36m2\u001b[0m\u001b[0;34m]\u001b[0m\u001b[0;34m,\u001b[0m\u001b[0;34m[\u001b[0m\u001b[0;36m1\u001b[0m\u001b[0;34m,\u001b[0m\u001b[0;36m1\u001b[0m\u001b[0;34m,\u001b[0m\u001b[0;36m5\u001b[0m\u001b[0;34m]\u001b[0m\u001b[0;34m]\u001b[0m\u001b[0;34m)\u001b[0m\u001b[0;34m\u001b[0m\u001b[0;34m\u001b[0m\u001b[0m\n\u001b[0m\u001b[1;32m     31\u001b[0m \u001b[0mb\u001b[0m \u001b[0;34m=\u001b[0m \u001b[0mnp\u001b[0m\u001b[0;34m.\u001b[0m\u001b[0marray\u001b[0m\u001b[0;34m(\u001b[0m\u001b[0;34m[\u001b[0m\u001b[0;34m[\u001b[0m\u001b[0;34m-\u001b[0m\u001b[0;36m2\u001b[0m\u001b[0;34m]\u001b[0m\u001b[0;34m,\u001b[0m\u001b[0;34m[\u001b[0m\u001b[0;36m1\u001b[0m\u001b[0;34m]\u001b[0m\u001b[0;34m,\u001b[0m\u001b[0;34m[\u001b[0m\u001b[0;36m4\u001b[0m\u001b[0;34m]\u001b[0m\u001b[0;34m]\u001b[0m\u001b[0;34m)\u001b[0m\u001b[0;34m\u001b[0m\u001b[0;34m\u001b[0m\u001b[0m\n\u001b[1;32m     32\u001b[0m \u001b[0mtol\u001b[0m \u001b[0;34m=\u001b[0m \u001b[0;36m10\u001b[0m\u001b[0;34m^\u001b[0m\u001b[0;34m(\u001b[0m\u001b[0;34m-\u001b[0m\u001b[0;36m5\u001b[0m\u001b[0;34m)\u001b[0m\u001b[0;34m\u001b[0m\u001b[0;34m\u001b[0m\u001b[0m\n",
            "\u001b[0;31mNameError\u001b[0m: name 'np' is not defined"
          ]
        }
      ]
    },
    {
      "cell_type": "markdown",
      "metadata": {
        "id": "K5Kwo9g2HinQ"
      },
      "source": [
        "Diferencias divididas\n"
      ]
    },
    {
      "cell_type": "code",
      "metadata": {
        "id": "6kux8H9f9vAq",
        "colab": {
          "base_uri": "https://localhost:8080/",
          "height": 130
        },
        "outputId": "8c186c37-c911-4be3-e759-98f92a344934"
      },
      "source": [
        "import numpy as np\n",
        "import sympy as sym\n",
        "\n",
        "x = sym.Symbol(\"x\")\n",
        "def diferenciasDivididas (puntos):\n",
        "  n = np.size(puntos,0)\n",
        "  X = puntos[:,0]\n",
        "  Y = puntos[:,1]\n",
        "  p = 0\n",
        "  tabla = np.zeros([n, n])\n",
        "  tabla[:,0] = Y\n",
        "  for j in range(1,n):\n",
        "    for i in range(n-j):\n",
        "      tabla[i][j] = (tabla[i+1][j-1] - tabla[i][j-1]) / (X[i+j]-X[i])\n",
        "  b = np.array(tabla[0,:])\n",
        "  mult = 1\n",
        "  for i in range(n):\n",
        "    mult =1\n",
        "    for j in range(i):\n",
        "      mult = mult * (x-X[j])\n",
        "    p = p + b[i]*(mult)\n",
        "  p = sym.simplify(sym.expand(p))\n",
        "  return p\n",
        "\n",
        "puntos = np.array([[-2,12.135],[-1,6.368],[0,1],[1,-3.2817]])\n",
        "\n",
        "diferenciasDivididas(puntos)\n"
      ],
      "execution_count": null,
      "outputs": [
        {
          "output_type": "stream",
          "name": "stdout",
          "text": [
            "12.135\n",
            "0.601000000000001 - 5.767*x\n",
            "-5.767*x + 0.1995*(x + 1.0)*(x + 2.0) + 0.601000000000001\n",
            "0.11455*x*(x + 1.0)*(x + 2.0) - 5.767*x + 0.1995*(x + 1.0)*(x + 2.0) + 0.601000000000001\n"
          ]
        },
        {
          "output_type": "execute_result",
          "data": {
            "text/latex": "$\\displaystyle 0.11455 x^{3} + 0.54315 x^{2} - 4.9394 x + 1.0$",
            "text/plain": [
              "0.11455*x**3 + 0.54315*x**2 - 4.9394*x + 1.0"
            ]
          },
          "metadata": {},
          "execution_count": 75
        }
      ]
    },
    {
      "cell_type": "code",
      "metadata": {
        "colab": {
          "base_uri": "https://localhost:8080/",
          "height": 39
        },
        "id": "Xohg3qXoD4UW",
        "outputId": "0a893e6d-d0d1-484d-8836-59db6dbf5d35"
      },
      "source": [
        "p = 12.13 + (-5.76)*(x+2)+(0.19)*(x+2)*(x+1)+(0.11)*(x+2)*(x+1)*x\n",
        "p = sym.simplify(sym.expand(p))\n",
        "p"
      ],
      "execution_count": null,
      "outputs": [
        {
          "output_type": "execute_result",
          "data": {
            "text/latex": "$\\displaystyle 0.11 x^{3} + 0.52 x^{2} - 4.97 x + 0.990000000000001$",
            "text/plain": [
              "0.11*x**3 + 0.52*x**2 - 4.97*x + 0.990000000000001"
            ]
          },
          "metadata": {},
          "execution_count": 73
        }
      ]
    },
    {
      "cell_type": "markdown",
      "metadata": {
        "id": "JTo47rd9NWhg"
      },
      "source": [
        "Interpolación Lagrange"
      ]
    },
    {
      "cell_type": "code",
      "metadata": {
        "colab": {
          "base_uri": "https://localhost:8080/",
          "height": 39
        },
        "id": "_O0DRL8uxQzK",
        "outputId": "2af9b74e-cb46-454d-c9d3-c609a71a01e7"
      },
      "source": [
        "import sympy as sym\n",
        "import numpy as np\n",
        "x = sym.Symbol(\"x\")\n",
        "def lagrange(puntos):\n",
        "  n = np.size(puntos,0)\n",
        "  p = 0\n",
        "  X = puntos[:,0]\n",
        "  Y = puntos[:,1]\n",
        "  for k in range(n):\n",
        "    L=1\n",
        "    for i in range(n):\n",
        "      if i != k:\n",
        "        L = L*((x-X[i])/(X[k]-X[i]))\n",
        "    p = p +L*(Y[k])\n",
        "  p = sym.simplify(sym.expand(p))\n",
        "  return p\n",
        "\n",
        "puntos = np.array([[-2,12.135],[-1,6.368],[2,-4.611],[3,2.086]])\n",
        "lagrange(puntos)"
      ],
      "execution_count": null,
      "outputs": [
        {
          "output_type": "execute_result",
          "data": {
            "text/latex": "$\\displaystyle 0.412466666666667 x^{3} + 0.9393 x^{2} - 5.83636666666667 x + 0.00479999999999992$",
            "text/plain": [
              "0.412466666666667*x**3 + 0.9393*x**2 - 5.83636666666667*x + 0.00479999999999992"
            ]
          },
          "metadata": {},
          "execution_count": 23
        }
      ]
    },
    {
      "cell_type": "markdown",
      "metadata": {
        "id": "getiIwI8H2xl"
      },
      "source": [
        "Splines cuadráticas"
      ]
    },
    {
      "cell_type": "code",
      "metadata": {
        "id": "zIwQsF0g-Q1i",
        "colab": {
          "base_uri": "https://localhost:8080/"
        },
        "outputId": "7275c0ee-ebb5-4619-f88a-be357aed3664"
      },
      "source": [
        "import sympy as sym\n",
        "import numpy as np\n",
        "x = sym.Symbol(\"x\")\n",
        "def splinesCuadraticos(puntos):\n",
        "  n = np.size(puntos,0)\n",
        "  X = puntos[:,0]\n",
        "  Y = puntos[:,1]\n",
        "  y = [(Y[i//2]if i%2==0 else Y[(i)//2]) if i <= 2*(n-1) else 0 for i in range(1, 3*(n-1) + 1)]\n",
        "  \n",
        "  tabla = np.zeros([3*(n-1),3*(n-1)])\n",
        "\n",
        "  for i in range(n-1):\n",
        "    tabla[2*(i + 1) - 2][3*i] = tabla[2*(i + 1) - 1][3*i] = 1 \n",
        "    tabla[2*(i + 1) - 2][3*i + 1] = X[i]\n",
        "    tabla[2*(i + 1) - 2][3*i + 2] = X[i]**2\n",
        "    tabla[2*(i + 1) - 1][3*i + 1] = X[i + 1]\n",
        "    tabla[2*(i + 1) - 1][3*i + 2] = X[i + 1]**2\n",
        "\n",
        "  for i in range(n-2):\n",
        "    tabla[2*(n-1) + i][3*i + 1] = 1\n",
        "    tabla[2*(n-1) + i][3*i + 4] = -1 \n",
        "    tabla[2*(n-1) + i][3*i + 2] = 2*X[i + 1]\n",
        "    tabla[2*(n-1) + i][3*i + 5] = -2*X[i + 1]\n",
        "\n",
        "  tabla[3*(n-1) - 1][2] = 2\n",
        "\n",
        "  tabla = np.linalg.inv(tabla)\n",
        "  coef = np.matmul(tabla,y)\n",
        "  p=[]\n",
        "  cont = 0\n",
        "  for j in range(n-1):\n",
        "    pj = coef[cont] + coef[cont+1] * x + coef[cont+2]*x**2\n",
        "    cont=cont+3\n",
        "    p.append(pj)\n",
        "  print(y)\n",
        "  return p\n",
        "puntos = np.array([[-2,12.135],[-1,6.368],[2,-4.611],[3,2.086]])\n",
        "puntos = np.array([[-1, 0.038],[-0.8, 0.058],[-0.6, 0.1],[-0.4, 0.2]])\n",
        "splinesCuadraticos(puntos)"
      ],
      "execution_count": null,
      "outputs": [
        {
          "output_type": "stream",
          "name": "stdout",
          "text": [
            "[0.038, 0.058, 0.058, 0.1, 0.1, 0.2, 0, 0, 0]\n"
          ]
        },
        {
          "output_type": "execute_result",
          "data": {
            "text/plain": [
              "[0.1*x + 0.138, 0.55*x**2 + 0.98*x + 0.49, 0.9*x**2 + 1.4*x + 0.616]"
            ]
          },
          "metadata": {},
          "execution_count": 26
        }
      ]
    }
  ]
}