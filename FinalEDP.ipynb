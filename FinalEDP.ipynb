{
  "nbformat": 4,
  "nbformat_minor": 0,
  "metadata": {
    "colab": {
      "provenance": [],
      "collapsed_sections": []
    },
    "kernelspec": {
      "name": "python3",
      "display_name": "Python 3"
    },
    "language_info": {
      "name": "python"
    }
  },
  "cells": [
    {
      "cell_type": "code",
      "metadata": {
        "id": "aSjs6TdU5HUy"
      },
      "source": [
        "##Librerías\n",
        "import math \n",
        "from math import e\n",
        "from math import cos\n",
        "from math import sin\n",
        "import numpy as np\n",
        "import pandas as pd\n",
        "import sympy as sp\n",
        "from sympy import *\n",
        "from tabulate import tabulate\n",
        "from scipy.optimize import fsolve\n",
        "import matplotlib.pyplot as plt"
      ],
      "execution_count": null,
      "outputs": []
    },
    {
      "cell_type": "code",
      "metadata": {
        "id": "PFOm26C09NmR"
      },
      "source": [
        "##Sistema de ecuaciones\n",
        "def func(x,y1,y2):\n",
        "  return 9*y1+24*y2+5*cos(x)-(1/3)*sin(x)\n",
        "def func2(x,y1,y2):\n",
        "  return -24*y1-51*y2-9*cos(x)+(1/3)*sin(x)"
      ],
      "execution_count": null,
      "outputs": []
    },
    {
      "cell_type": "code",
      "metadata": {
        "id": "fjqYtRwV_HFC"
      },
      "source": [
        "##Soluciones\n",
        "def sol1(x):\n",
        "  return 2*e**(-3*x)-e**(-39*x)+(1/3)*cos(x)\n",
        "def sol2(x):\n",
        "  return (-1)*e**(-3*x)+2*e**(-39*x)-(1/3)*cos(x)\n",
        "def sol3(x,ep):\n",
        "  return 1+x+(e**(x/ep)-1)/(e**(1/ep)-1)"
      ],
      "execution_count": null,
      "outputs": []
    },
    {
      "cell_type": "code",
      "metadata": {
        "id": "Wts81t675Esi",
        "colab": {
          "base_uri": "https://localhost:8080/",
          "height": 206
        },
        "outputId": "699b8e22-7587-4af0-cd1d-bc4f4d0c3351"
      },
      "source": [
        "##Forward Euler\n",
        "def FEuler(fun,fun2,sol1,sol2,a,b,y10,y20,M):\n",
        "  h = (b-a)/M\n",
        "  X = np.zeros(M+1)\n",
        "  Y1 = np.zeros(M+1)\n",
        "  Y2 = np.zeros(M+1)\n",
        "  Error1= np.zeros(M+1)\n",
        "  Error2= np.zeros(M+1)\n",
        "  Y1[0] = y10\n",
        "  Y2[0] = y20\n",
        "  Error1[0]= 0\n",
        "  Error2[0]= 0\n",
        "  X[0] = a\n",
        "  i = 1\n",
        "  while i<=M:\n",
        "    X[i] = X[i-1]+h\n",
        "    Y1[i] = Y1[i-1] + h*func(X[i-1], Y1[i-1],Y2[i-1])\n",
        "    Y2[i] = Y2[i-1] + h*func2(X[i-1], Y1[i-1],Y2[i-1])\n",
        "    Error1[i]= abs(Y1[i]-sol1(X[i]))\n",
        "    Error2[i]= abs(Y2[i]-sol2(X[i]))\n",
        "    i = i +1 \n",
        "  \n",
        "  Datos=[]\n",
        "\n",
        "  for i in range(M+1):\n",
        "    Datos.append([X[i],Y1[i],Error1[i],Y2[i],Error2[i]])\n",
        "  Datos = pd.DataFrame(Datos).set_axis(['x','Y1','Error Y1','Y2','Error Y2'], axis=1)\n",
        "  return Datos\n",
        "\n",
        "FEuler(func,func2,sol1,sol2, 0, 1, (4/3),(2/3), 4)"
      ],
      "execution_count": null,
      "outputs": [
        {
          "output_type": "execute_result",
          "data": {
            "text/plain": [
              "      x           Y1     Error Y1            Y2      Error Y2\n",
              "0  0.00     1.333333     0.000000      0.666667      0.000000\n",
              "1  0.25     9.583333     8.315688    -18.083333     17.288113\n",
              "2  0.50   -76.163643    76.902431    152.819731    153.335388\n",
              "3  0.75   670.443570   669.988875  -1340.584586   1340.235290\n",
              "4  1.00 -5863.708103  5863.987778  11727.617964  11727.847852"
            ],
            "text/html": [
              "\n",
              "  <div id=\"df-31ae0aa6-88cb-44e4-974c-def38beccd9f\">\n",
              "    <div class=\"colab-df-container\">\n",
              "      <div>\n",
              "<style scoped>\n",
              "    .dataframe tbody tr th:only-of-type {\n",
              "        vertical-align: middle;\n",
              "    }\n",
              "\n",
              "    .dataframe tbody tr th {\n",
              "        vertical-align: top;\n",
              "    }\n",
              "\n",
              "    .dataframe thead th {\n",
              "        text-align: right;\n",
              "    }\n",
              "</style>\n",
              "<table border=\"1\" class=\"dataframe\">\n",
              "  <thead>\n",
              "    <tr style=\"text-align: right;\">\n",
              "      <th></th>\n",
              "      <th>x</th>\n",
              "      <th>Y1</th>\n",
              "      <th>Error Y1</th>\n",
              "      <th>Y2</th>\n",
              "      <th>Error Y2</th>\n",
              "    </tr>\n",
              "  </thead>\n",
              "  <tbody>\n",
              "    <tr>\n",
              "      <th>0</th>\n",
              "      <td>0.00</td>\n",
              "      <td>1.333333</td>\n",
              "      <td>0.000000</td>\n",
              "      <td>0.666667</td>\n",
              "      <td>0.000000</td>\n",
              "    </tr>\n",
              "    <tr>\n",
              "      <th>1</th>\n",
              "      <td>0.25</td>\n",
              "      <td>9.583333</td>\n",
              "      <td>8.315688</td>\n",
              "      <td>-18.083333</td>\n",
              "      <td>17.288113</td>\n",
              "    </tr>\n",
              "    <tr>\n",
              "      <th>2</th>\n",
              "      <td>0.50</td>\n",
              "      <td>-76.163643</td>\n",
              "      <td>76.902431</td>\n",
              "      <td>152.819731</td>\n",
              "      <td>153.335388</td>\n",
              "    </tr>\n",
              "    <tr>\n",
              "      <th>3</th>\n",
              "      <td>0.75</td>\n",
              "      <td>670.443570</td>\n",
              "      <td>669.988875</td>\n",
              "      <td>-1340.584586</td>\n",
              "      <td>1340.235290</td>\n",
              "    </tr>\n",
              "    <tr>\n",
              "      <th>4</th>\n",
              "      <td>1.00</td>\n",
              "      <td>-5863.708103</td>\n",
              "      <td>5863.987778</td>\n",
              "      <td>11727.617964</td>\n",
              "      <td>11727.847852</td>\n",
              "    </tr>\n",
              "  </tbody>\n",
              "</table>\n",
              "</div>\n",
              "      <button class=\"colab-df-convert\" onclick=\"convertToInteractive('df-31ae0aa6-88cb-44e4-974c-def38beccd9f')\"\n",
              "              title=\"Convert this dataframe to an interactive table.\"\n",
              "              style=\"display:none;\">\n",
              "        \n",
              "  <svg xmlns=\"http://www.w3.org/2000/svg\" height=\"24px\"viewBox=\"0 0 24 24\"\n",
              "       width=\"24px\">\n",
              "    <path d=\"M0 0h24v24H0V0z\" fill=\"none\"/>\n",
              "    <path d=\"M18.56 5.44l.94 2.06.94-2.06 2.06-.94-2.06-.94-.94-2.06-.94 2.06-2.06.94zm-11 1L8.5 8.5l.94-2.06 2.06-.94-2.06-.94L8.5 2.5l-.94 2.06-2.06.94zm10 10l.94 2.06.94-2.06 2.06-.94-2.06-.94-.94-2.06-.94 2.06-2.06.94z\"/><path d=\"M17.41 7.96l-1.37-1.37c-.4-.4-.92-.59-1.43-.59-.52 0-1.04.2-1.43.59L10.3 9.45l-7.72 7.72c-.78.78-.78 2.05 0 2.83L4 21.41c.39.39.9.59 1.41.59.51 0 1.02-.2 1.41-.59l7.78-7.78 2.81-2.81c.8-.78.8-2.07 0-2.86zM5.41 20L4 18.59l7.72-7.72 1.47 1.35L5.41 20z\"/>\n",
              "  </svg>\n",
              "      </button>\n",
              "      \n",
              "  <style>\n",
              "    .colab-df-container {\n",
              "      display:flex;\n",
              "      flex-wrap:wrap;\n",
              "      gap: 12px;\n",
              "    }\n",
              "\n",
              "    .colab-df-convert {\n",
              "      background-color: #E8F0FE;\n",
              "      border: none;\n",
              "      border-radius: 50%;\n",
              "      cursor: pointer;\n",
              "      display: none;\n",
              "      fill: #1967D2;\n",
              "      height: 32px;\n",
              "      padding: 0 0 0 0;\n",
              "      width: 32px;\n",
              "    }\n",
              "\n",
              "    .colab-df-convert:hover {\n",
              "      background-color: #E2EBFA;\n",
              "      box-shadow: 0px 1px 2px rgba(60, 64, 67, 0.3), 0px 1px 3px 1px rgba(60, 64, 67, 0.15);\n",
              "      fill: #174EA6;\n",
              "    }\n",
              "\n",
              "    [theme=dark] .colab-df-convert {\n",
              "      background-color: #3B4455;\n",
              "      fill: #D2E3FC;\n",
              "    }\n",
              "\n",
              "    [theme=dark] .colab-df-convert:hover {\n",
              "      background-color: #434B5C;\n",
              "      box-shadow: 0px 1px 3px 1px rgba(0, 0, 0, 0.15);\n",
              "      filter: drop-shadow(0px 1px 2px rgba(0, 0, 0, 0.3));\n",
              "      fill: #FFFFFF;\n",
              "    }\n",
              "  </style>\n",
              "\n",
              "      <script>\n",
              "        const buttonEl =\n",
              "          document.querySelector('#df-31ae0aa6-88cb-44e4-974c-def38beccd9f button.colab-df-convert');\n",
              "        buttonEl.style.display =\n",
              "          google.colab.kernel.accessAllowed ? 'block' : 'none';\n",
              "\n",
              "        async function convertToInteractive(key) {\n",
              "          const element = document.querySelector('#df-31ae0aa6-88cb-44e4-974c-def38beccd9f');\n",
              "          const dataTable =\n",
              "            await google.colab.kernel.invokeFunction('convertToInteractive',\n",
              "                                                     [key], {});\n",
              "          if (!dataTable) return;\n",
              "\n",
              "          const docLinkHtml = 'Like what you see? Visit the ' +\n",
              "            '<a target=\"_blank\" href=https://colab.research.google.com/notebooks/data_table.ipynb>data table notebook</a>'\n",
              "            + ' to learn more about interactive tables.';\n",
              "          element.innerHTML = '';\n",
              "          dataTable['output_type'] = 'display_data';\n",
              "          await google.colab.output.renderOutput(dataTable, element);\n",
              "          const docLink = document.createElement('div');\n",
              "          docLink.innerHTML = docLinkHtml;\n",
              "          element.appendChild(docLink);\n",
              "        }\n",
              "      </script>\n",
              "    </div>\n",
              "  </div>\n",
              "  "
            ]
          },
          "metadata": {},
          "execution_count": 6
        }
      ]
    },
    {
      "cell_type": "code",
      "metadata": {
        "id": "ePzUtiR6YeVO"
      },
      "source": [
        "##Backward Euler \n",
        "t,y1,y2,y1j,y2j= symbols('t,y1,y2,y1j,y2j')\n",
        "def BEuler(f1,f2,s1,s2,a,b,y10,y20,M):\n",
        "  h = (b-a)/M\n",
        "  X = np.zeros(M+1)\n",
        "  Y1 = np.zeros(M+1)\n",
        "  Y2 = np.zeros(M+1)\n",
        "  Error1= np.zeros(M+1)\n",
        "  Error2= np.zeros(M+1)\n",
        "  Y1[0] = y10\n",
        "  Y2[0] = y20\n",
        "  Error1[0]= 0\n",
        "  Error2[0]= 0\n",
        "  X[0] = a\n",
        "\n",
        "  f2x= y2j - y2 - h*f2(t,y1j,y2j)\n",
        "  f2x= solve(f2x,y2j)[0]\n",
        "\n",
        "  f1x= y1j - y1 - h*f1(t,y1j,y2j)\n",
        "  f1x= solve(f1x.subs(y2j,f2x),y1j)[0]\n",
        "\n",
        "\n",
        "  i=0\n",
        "  while i<M:\n",
        "    X[i+1]= X[i]+h\n",
        "    Y1[i+1]= f1x.subs(t,X[i+1]).subs(y1,Y1[i]).subs(y2,Y2[i]) \n",
        "    Error1[i+1]= abs(Y1[i+1]-s1(X[i+1]))\n",
        "    Y2[i+1]= f2x.subs(t,X[i+1]).subs(y1j,Y1[i+1]).subs(y2,Y2[i]) \n",
        "    Error2[i+1]= abs(Y2[i+1]-s2(X[i+1]))\n",
        "    i=i+1\n",
        "\n",
        "  Datos=[]\n",
        "\n",
        "  for i in range(M+1):\n",
        "    Datos.append([X[i],Y1[i],Error1[i],Y2[i],Error2[i]])\n",
        "  Datos = pd.DataFrame(Datos).set_axis(['x','Y1','Error Y1','Y2','Error Y2'], axis=1)\n",
        "  return Datos\n",
        "\n",
        "BEuler(func,func2,sol1,sol2,0,1,(4/3),(2/3),8)"
      ],
      "execution_count": null,
      "outputs": []
    },
    {
      "cell_type": "code",
      "metadata": {
        "id": "ltocvWUPjU_X",
        "colab": {
          "base_uri": "https://localhost:8080/",
          "height": 316
        },
        "outputId": "520939cf-4fea-40d8-9d37-dc8a27484be9"
      },
      "source": [
        "##Crank-Nicolson\n",
        "def CNicolson(f1,f2,s1,s2,a,b,y10,y20,M):\n",
        "  h = (b-a)/M\n",
        "  X, Y11, Y12= FEuler(f1,f2,s1,s2,a,b,y10,y20,M)\n",
        "  X, Y21, Y22 = BEuler(f1,f2,s1,s2,a,b,y10,y20,M)\n",
        "  Y1 = np.zeros(M+1)\n",
        "  Y2 = np.zeros(M+1)\n",
        "  Error1= np.zeros(M+1)\n",
        "  Error2= np.zeros(M+1)\n",
        "  Error1[0]=0\n",
        "  Error2[0]=0\n",
        "  Y1 = (1/2)*(Y11+Y21)\n",
        "  Y2 = (1/2)*(Y12+Y22)\n",
        "\n",
        "\n",
        "  for i in range(M):\n",
        "    Error1[i]= Y1[i]-s1(X[i])\n",
        "    Error2[i]= Y2[i]-s2(X[i])\n",
        "\n",
        "\n",
        "  Datos=[]\n",
        "\n",
        "  for i in range(M+1):\n",
        "    Datos.append([X[i],Y1[i],s1(X[i]),Error1[i],Y2[i],s2(X[i]),Error2[i]])\n",
        "  Datos = pd.DataFrame(Datos).set_axis(['x','Y1','Y1 real','Error Y1','Y2','Y2 real','Error Y2'], axis=1)\n",
        "\n",
        "  return Datos\n",
        "CNicolson(func,func2,sol1,sol2,0,1,(4/3),(2/3),8)"
      ],
      "execution_count": null,
      "outputs": [
        {
          "output_type": "error",
          "ename": "NameError",
          "evalue": "ignored",
          "traceback": [
            "\u001b[0;31m---------------------------------------------------------------------------\u001b[0m",
            "\u001b[0;31mNameError\u001b[0m                                 Traceback (most recent call last)",
            "\u001b[0;32m<ipython-input-8-db377686b69c>\u001b[0m in \u001b[0;36m<module>\u001b[0;34m()\u001b[0m\n\u001b[1;32m     26\u001b[0m \u001b[0;34m\u001b[0m\u001b[0m\n\u001b[1;32m     27\u001b[0m   \u001b[0;32mreturn\u001b[0m \u001b[0mDatos\u001b[0m\u001b[0;34m\u001b[0m\u001b[0;34m\u001b[0m\u001b[0m\n\u001b[0;32m---> 28\u001b[0;31m \u001b[0mCNicolson\u001b[0m\u001b[0;34m(\u001b[0m\u001b[0mfunc\u001b[0m\u001b[0;34m,\u001b[0m\u001b[0mfunc2\u001b[0m\u001b[0;34m,\u001b[0m\u001b[0msol1\u001b[0m\u001b[0;34m,\u001b[0m\u001b[0msol2\u001b[0m\u001b[0;34m,\u001b[0m\u001b[0;36m0\u001b[0m\u001b[0;34m,\u001b[0m\u001b[0;36m1\u001b[0m\u001b[0;34m,\u001b[0m\u001b[0;34m(\u001b[0m\u001b[0;36m4\u001b[0m\u001b[0;34m/\u001b[0m\u001b[0;36m3\u001b[0m\u001b[0;34m)\u001b[0m\u001b[0;34m,\u001b[0m\u001b[0;34m(\u001b[0m\u001b[0;36m2\u001b[0m\u001b[0;34m/\u001b[0m\u001b[0;36m3\u001b[0m\u001b[0;34m)\u001b[0m\u001b[0;34m,\u001b[0m\u001b[0;36m8\u001b[0m\u001b[0;34m)\u001b[0m\u001b[0;34m\u001b[0m\u001b[0;34m\u001b[0m\u001b[0m\n\u001b[0m",
            "\u001b[0;32m<ipython-input-8-db377686b69c>\u001b[0m in \u001b[0;36mCNicolson\u001b[0;34m(f1, f2, s1, s2, a, b, y10, y20, M)\u001b[0m\n\u001b[1;32m      2\u001b[0m \u001b[0;32mdef\u001b[0m \u001b[0mCNicolson\u001b[0m\u001b[0;34m(\u001b[0m\u001b[0mf1\u001b[0m\u001b[0;34m,\u001b[0m\u001b[0mf2\u001b[0m\u001b[0;34m,\u001b[0m\u001b[0ms1\u001b[0m\u001b[0;34m,\u001b[0m\u001b[0ms2\u001b[0m\u001b[0;34m,\u001b[0m\u001b[0ma\u001b[0m\u001b[0;34m,\u001b[0m\u001b[0mb\u001b[0m\u001b[0;34m,\u001b[0m\u001b[0my10\u001b[0m\u001b[0;34m,\u001b[0m\u001b[0my20\u001b[0m\u001b[0;34m,\u001b[0m\u001b[0mM\u001b[0m\u001b[0;34m)\u001b[0m\u001b[0;34m:\u001b[0m\u001b[0;34m\u001b[0m\u001b[0;34m\u001b[0m\u001b[0m\n\u001b[1;32m      3\u001b[0m   \u001b[0mh\u001b[0m \u001b[0;34m=\u001b[0m \u001b[0;34m(\u001b[0m\u001b[0mb\u001b[0m\u001b[0;34m-\u001b[0m\u001b[0ma\u001b[0m\u001b[0;34m)\u001b[0m\u001b[0;34m/\u001b[0m\u001b[0mM\u001b[0m\u001b[0;34m\u001b[0m\u001b[0;34m\u001b[0m\u001b[0m\n\u001b[0;32m----> 4\u001b[0;31m   \u001b[0mX\u001b[0m\u001b[0;34m,\u001b[0m \u001b[0mY11\u001b[0m\u001b[0;34m,\u001b[0m \u001b[0mY12\u001b[0m\u001b[0;34m=\u001b[0m \u001b[0mFEuler\u001b[0m\u001b[0;34m(\u001b[0m\u001b[0mf1\u001b[0m\u001b[0;34m,\u001b[0m\u001b[0mf2\u001b[0m\u001b[0;34m,\u001b[0m\u001b[0ms1\u001b[0m\u001b[0;34m,\u001b[0m\u001b[0ms2\u001b[0m\u001b[0;34m,\u001b[0m\u001b[0ma\u001b[0m\u001b[0;34m,\u001b[0m\u001b[0mb\u001b[0m\u001b[0;34m,\u001b[0m\u001b[0my10\u001b[0m\u001b[0;34m,\u001b[0m\u001b[0my20\u001b[0m\u001b[0;34m,\u001b[0m\u001b[0mM\u001b[0m\u001b[0;34m)\u001b[0m\u001b[0;34m\u001b[0m\u001b[0;34m\u001b[0m\u001b[0m\n\u001b[0m\u001b[1;32m      5\u001b[0m   \u001b[0mX\u001b[0m\u001b[0;34m,\u001b[0m \u001b[0mY21\u001b[0m\u001b[0;34m,\u001b[0m \u001b[0mY22\u001b[0m \u001b[0;34m=\u001b[0m \u001b[0mBEuler\u001b[0m\u001b[0;34m(\u001b[0m\u001b[0mf1\u001b[0m\u001b[0;34m,\u001b[0m\u001b[0mf2\u001b[0m\u001b[0;34m,\u001b[0m\u001b[0ms1\u001b[0m\u001b[0;34m,\u001b[0m\u001b[0ms2\u001b[0m\u001b[0;34m,\u001b[0m\u001b[0ma\u001b[0m\u001b[0;34m,\u001b[0m\u001b[0mb\u001b[0m\u001b[0;34m,\u001b[0m\u001b[0my10\u001b[0m\u001b[0;34m,\u001b[0m\u001b[0my20\u001b[0m\u001b[0;34m,\u001b[0m\u001b[0mM\u001b[0m\u001b[0;34m)\u001b[0m\u001b[0;34m\u001b[0m\u001b[0;34m\u001b[0m\u001b[0m\n\u001b[1;32m      6\u001b[0m   \u001b[0mY1\u001b[0m \u001b[0;34m=\u001b[0m \u001b[0mnp\u001b[0m\u001b[0;34m.\u001b[0m\u001b[0mzeros\u001b[0m\u001b[0;34m(\u001b[0m\u001b[0mM\u001b[0m\u001b[0;34m+\u001b[0m\u001b[0;36m1\u001b[0m\u001b[0;34m)\u001b[0m\u001b[0;34m\u001b[0m\u001b[0;34m\u001b[0m\u001b[0m\n",
            "\u001b[0;31mNameError\u001b[0m: name 'FEuler' is not defined"
          ]
        }
      ]
    },
    {
      "cell_type": "code",
      "metadata": {
        "id": "BqYBJ-UXoulP",
        "colab": {
          "base_uri": "https://localhost:8080/"
        },
        "outputId": "a3cac621-d599-41c2-fbeb-c86c0f0491ab"
      },
      "source": [
        "#Runge-Kutta 45 orden 5\n",
        "def RK45(fun1, fun2,a,b,y10,y20,M, order=5):\n",
        "  X = np.zeros(M+1)\n",
        "  Y1 = np.zeros(M+1)\n",
        "  Y2 = np.zeros(M+1)\n",
        "  \n",
        "  h = (b-a)/M\n",
        "  X[0] = a\n",
        "  Y1[0] = y10\n",
        "  Y2[0] = y20\n",
        "  i = 1\n",
        "  while i<=M:\n",
        "    X[i] = X[i-1]+h\n",
        "    i = i +1\n",
        "  k = 0\n",
        "    \n",
        "  while k<M:\n",
        "    k1 = h*fun1(X[k],Y1[k], Y2[k])\n",
        "    l1 = h*fun2(X[k],Y1[k], Y2[k])\n",
        "    k2 = h*fun1(X[k] + 1/4*h,Y1[k]+1/4*k1, Y2[k]+1/4*l1)\n",
        "    l2 = h*fun2(X[k] + 1/4*h,Y1[k]+1/4*k1, Y2[k]+1/4*l1)\n",
        "    k3 = h*fun1(X[k]+ 3/8*h,Y1[k]+3/32*k1+9/32*k2,Y2[k]+3/32*l1+9/32*l2)\n",
        "    l3 = h*fun2(X[k]+ 3/8*h,Y1[k]+3/32*k1+9/32*k2,Y2[k]+3/32*l1+9/32*l2 )\n",
        "    k4 = h*fun1(X[k]+ 12/13*h,Y1[k]+1932/2197*k1-7200/2197*k2+7296/2197*k3, Y2[k]+1932/2197*l1-7200/2197*l2+7296/2197*l3)\n",
        "    l4 = h*fun2(X[k]+ 12/13*h,Y1[k]+1932/2197*k1-7200/2197*k2+7296/2197*k3, Y2[k]+1932/2197*l1-7200/2197*l2+7296/2197*l3)\n",
        "    k5 = h*fun1(X[k]+ h,Y1[k]+439/216*k1-8*k2+3680/513*k3-845/4101*k4, Y2[k]+439/216*l1-8*l2+3680/513*l3-845/4101*l4)\n",
        "    l5 = h*fun2(X[k]+ h,Y1[k]+439/216*k1-8*k2+3680/513*k3-845/4101*k4, Y2[k]+439/216*l1-8*l2+3680/513*l3-845/4101*l4)\n",
        "    k6 = h*fun1(X[k]+ 1/2*h,Y1[k]-8/27*k1+2*k2-3544/2565*k3+1859/4101*k4-11/40*k5, Y2[k]-8/27*l1+2*l2-3544/2565*l3+1859/4101*l4-11/40*l5)\n",
        "    l6 = h*fun2(X[k]+ 1/2*h,Y1[k]-8/27*k1+2*k2-3544/2565*k3+1859/4101*k4-11/40*k5, Y2[k]-8/27*l1+2*l2-3544/2565*l3+1859/4101*l4-11/40*l5)\n",
        "    if order == 5:\n",
        "      Y1[k+1] = Y1[k] + 16/135*k1+6656/12825*k3+28561/56430*k4-9/50*k5+2/55*k6\n",
        "      Y2[k+1] = Y2[k] + 16/135*l1+6656/12825*l3+28561/56430*l4-9/50*l5+2/55*l6\n",
        "    elif order == 4:\n",
        "      Y1[k+1] = Y1[k] + 25/216*k1+1408/2565*k3+2197/4101*k4-1/5*k5\n",
        "      Y2[k+1] = Y2[k] + 25/216*l1+1408/2565*l3+2197/4101*l4-1/5*l5\n",
        "    else:\n",
        "      return \"Se especificó un orden no permitido\"\n",
        "    k=k+1\n",
        "\n",
        "  return X, Y1, Y2\n",
        "\n",
        "RK45(func, func2, 0,1,4/3, 2/3,20)"
      ],
      "execution_count": null,
      "outputs": [
        {
          "output_type": "execute_result",
          "data": {
            "text/plain": [
              "(array([0.  , 0.05, 0.1 , 0.15, 0.2 , 0.25, 0.3 , 0.35, 0.4 , 0.45, 0.5 ,\n",
              "        0.55, 0.6 , 0.65, 0.7 , 0.75, 0.8 , 0.85, 0.9 , 0.95, 1.  ]),\n",
              " array([1.33333333, 1.94509209, 1.80137546, 1.60354904, 1.42417636,\n",
              "        1.26769531, 1.13159021, 1.01300666, 0.90941577, 0.81863644,\n",
              "        0.73879453, 0.66828112, 0.60571585, 0.54991534, 0.4998659 ,\n",
              "        0.4547001 , 0.41367656, 0.37616251, 0.34161887, 0.30958726,\n",
              "        0.2796789 ]),\n",
              " array([ 0.66666667, -0.97514124, -1.0486243 , -0.96461822, -0.87522315,\n",
              "        -0.7953139 , -0.72501947, -0.66306931, -0.60822213, -0.5593968 ,\n",
              "        -0.51566504, -0.47623192, -0.44041773, -0.40764209, -0.37741034,\n",
              "        -0.34930179, -0.32295954, -0.2980818 , -0.27441433, -0.2517439 ,\n",
              "        -0.22989278]))"
            ]
          },
          "metadata": {},
          "execution_count": 10
        }
      ]
    },
    {
      "cell_type": "code",
      "metadata": {
        "id": "etbhj1RfoIVY",
        "colab": {
          "base_uri": "https://localhost:8080/",
          "height": 483
        },
        "outputId": "9a0c3b6b-2894-4bea-c848-dfa144786c8a"
      },
      "source": [
        "##Adams-Moulton \n",
        "t3,t2,t1,t,t_1,yj31,yj21,yj1,y1j,y_j1,yj32,yj22,yj12,y2j,y_j2= symbols('t3,t2,t1,t,t_1,yj31,yj21,yj1,y1j,y_j1,yj32,yj22,yj12,y2j,y_j2')\n",
        "def Amoulton(f1,f2,s1,s2,a,b,y10,y20,M):\n",
        "  h = (b-a)/M\n",
        "  Ys1= np.zeros(M+1)\n",
        "  Ys2= np.zeros(M+1)\n",
        "  Error11=np.zeros(M+1)\n",
        "  Error22=np.zeros(M+1)\n",
        "  X, Y1r,Y2r = RK45(func, func2, a, b, y10, y20, M, 4)\n",
        "  Ys1[0:4]= Y1r[0:4]\n",
        "  Ys2[0:4]= Y2r[0:4]\n",
        "  X[0] = a\n",
        "\n",
        "  fx2= y_j2-y2j-(h/720)*(-19*f2(t3,yj31,yj32)+106*f2(t2,yj21,yj22)-264*f2(t1,yj1,yj12)+646*f2(t,y1j,y2j)+251*f2(t_1,y_j1,y_j2))\n",
        "  fx2= solve(fx2,y_j2)[0]\n",
        "    \n",
        "  fx1= y_j1-y1j-(h/720)*(-19*f1(t3,yj31,yj32)+106*f1(t2,yj21,yj22)-264*f1(t1,yj1,yj12)+646*f1(t,y1j,y2j)+251*f1(t_1,y_j1,y_j2))\n",
        "  fx1= solve(fx1.subs(y_j2,fx2),y_j1)[0]\n",
        "\n",
        "  i=3\n",
        "  while i<M:\n",
        "    Ys1[i+1]= fx1.subs(t3,X[i-3]).subs(t2,X[i-2]).subs(t1,X[i-1]).subs(t,X[i]).subs(t_1,X[i+1]).subs(yj32,Ys2[i-3]).subs(yj31,Ys1[i-3]).subs(yj22,Ys2[i-2]).subs(yj21,Ys1[i-2]).subs(yj12,Ys2[i-1]).subs(yj1,Ys1[i-1]).subs(y2j,Ys2[i]).subs(y1j,Ys1[i])\n",
        "    Ys2[i+1]= fx2.subs(t3,X[i-3]).subs(t2,X[i-2]).subs(t1,X[i-1]).subs(t,X[i]).subs(t_1,X[i+1]).subs(yj32,Ys2[i-3]).subs(yj31,Ys1[i-3]).subs(yj22,Ys2[i-2]).subs(yj21,Ys1[i-2]).subs(yj12,Ys2[i-1]).subs(yj1,Ys1[i-1]).subs(y_j1,Ys1[i+1]).subs(y2j,Ys2[i]).subs(y1j,Ys1[i])\n",
        "    i=i+1\n",
        "  \n",
        "  return X, Ys1, Ys2\n",
        "'''    \n",
        "  e1,e2=[]\n",
        "  for i in range(M+1):\n",
        "    print(Ys1[i])\n",
        "    print(sol1(X[i]))\n",
        "    e1.append(abs(Ys1[i]-sol1(X[i])))\n",
        "    e2.append(abs(Ys2[i]-sol2(X[i])))\n",
        "\n",
        "  print(tabulate({'x': x, 'y1': ya1,'Error y1':e1,'y2': ya2,'Error y2':e2 }, headers=\"keys\", tablefmt='fancy_grid'))\n",
        "'''\n",
        "  \n",
        "\n",
        "fig = plt.figure()\n",
        "\n",
        "ax = fig.add_subplot(1, 1, 1)\n",
        "plt.plot(X,real1,'b', label='Exacta')\n",
        "\n",
        "plt.plot(x1,y11,'g', label='h=1/2')\n",
        "\n",
        "plt.plot(x2,y12,'r', label='h=1/4')\n",
        "plt.plot(x3,y13,'c', label='h=1/8')\n",
        "plt.plot(x4,y14,'m', label='h=1/16')\n",
        "plt.plot(x5,y15,'y', label='h=1/32')\n",
        "plt.plot(x6,y16,'k', label='h=1/64')\n",
        "plt.ylim(0,2)\n",
        "plt.legend(loc='upper right')\n",
        "plt.show()\n",
        "  \n",
        "  \n",
        "\n",
        "Amoulton(func, func2, sol1, sol2, 0,1,4/3, 2/3,2)"
      ],
      "execution_count": null,
      "outputs": [
        {
          "output_type": "error",
          "ename": "NameError",
          "evalue": "ignored",
          "traceback": [
            "\u001b[0;31m---------------------------------------------------------------------------\u001b[0m",
            "\u001b[0;31mNameError\u001b[0m                                 Traceback (most recent call last)",
            "\u001b[0;32m<ipython-input-28-5d7936d54921>\u001b[0m in \u001b[0;36m<module>\u001b[0;34m()\u001b[0m\n\u001b[1;32m     40\u001b[0m \u001b[0;34m\u001b[0m\u001b[0m\n\u001b[1;32m     41\u001b[0m \u001b[0max\u001b[0m \u001b[0;34m=\u001b[0m \u001b[0mfig\u001b[0m\u001b[0;34m.\u001b[0m\u001b[0madd_subplot\u001b[0m\u001b[0;34m(\u001b[0m\u001b[0;36m1\u001b[0m\u001b[0;34m,\u001b[0m \u001b[0;36m1\u001b[0m\u001b[0;34m,\u001b[0m \u001b[0;36m1\u001b[0m\u001b[0;34m)\u001b[0m\u001b[0;34m\u001b[0m\u001b[0;34m\u001b[0m\u001b[0m\n\u001b[0;32m---> 42\u001b[0;31m \u001b[0mplt\u001b[0m\u001b[0;34m.\u001b[0m\u001b[0mplot\u001b[0m\u001b[0;34m(\u001b[0m\u001b[0mX\u001b[0m\u001b[0;34m,\u001b[0m\u001b[0mreal1\u001b[0m\u001b[0;34m,\u001b[0m\u001b[0;34m'b'\u001b[0m\u001b[0;34m,\u001b[0m \u001b[0mlabel\u001b[0m\u001b[0;34m=\u001b[0m\u001b[0;34m'Exacta'\u001b[0m\u001b[0;34m)\u001b[0m\u001b[0;34m\u001b[0m\u001b[0;34m\u001b[0m\u001b[0m\n\u001b[0m\u001b[1;32m     43\u001b[0m \u001b[0;34m\u001b[0m\u001b[0m\n\u001b[1;32m     44\u001b[0m \u001b[0mplt\u001b[0m\u001b[0;34m.\u001b[0m\u001b[0mplot\u001b[0m\u001b[0;34m(\u001b[0m\u001b[0mx1\u001b[0m\u001b[0;34m,\u001b[0m\u001b[0my11\u001b[0m\u001b[0;34m,\u001b[0m\u001b[0;34m'g'\u001b[0m\u001b[0;34m,\u001b[0m \u001b[0mlabel\u001b[0m\u001b[0;34m=\u001b[0m\u001b[0;34m'h=1/2'\u001b[0m\u001b[0;34m)\u001b[0m\u001b[0;34m\u001b[0m\u001b[0;34m\u001b[0m\u001b[0m\n",
            "\u001b[0;31mNameError\u001b[0m: name 'X' is not defined"
          ]
        },
        {
          "output_type": "display_data",
          "data": {
            "image/png": "[encoded data removed]",
            "text/plain": [
              "<Figure size 432x288 with 1 Axes>"
            ]
          },
          "metadata": {
            "needs_background": "light"
          }
        }
      ]
    },
    {
      "cell_type": "code",
      "metadata": {
        "id": "7IAvN5i80aoo"
      },
      "source": [
        "x = np.linspace(0,1,1000)\n",
        "real1 = np.zeros(len(x))\n",
        "real2 = np.zeros(len(x))\n",
        "for i in range(len(x)):\n",
        "  real1[i] = sol1(x[i])\n",
        "  real2[i] = sol2(x[i])\n",
        "\n",
        "\n",
        "\n",
        "x1,y11,y21=AMoulton(func,func2,0,1,2,(4/3),(2/3))\n",
        "x2,y12,y22=AMoulton(func,func2,0,1,4,(4/3),(2/3))\n",
        "x3,y13,y23=AMoulton(func,func2,0,1,8,(4/3),(2/3))\n",
        "x4,y14,y24=AMoulton(func,func2,0,1,16,(4/3),(2/3))\n",
        "x5,y15,y25=AMoulton(func,func2,0,1,32,(4/3),(2/3))\n",
        "x6,y16,y26=AMoulton(func,func2,0,1,64,(4/3),(2/3))\n",
        "\n",
        "\n",
        "\n",
        "fig = plt.figure()\n",
        "ax = fig.add_subplot(1, 1, 1)\n",
        "plt.plot(x,real2, 'b', label='Exacta')\n",
        "plt.plot(x1,y21, 'g', label='h=1/2')\n",
        "plt.plot(x2,y22, 'r', label='h=1/4')\n",
        "plt.plot(x3,y23, 'c', label='h=1/8')\n",
        "plt.plot(x4,y24, 'm', label='h=1/16')\n",
        "plt.plot(x5,y25, 'y', label='h=1/32')\n",
        "plt.plot(x6,y26, 'k', label='h=1/64')\n",
        "plt.ylim(top = 1, bottom = -2)\n",
        "plt.legend(loc='upper rigth')\n",
        "# show the plot\n",
        "plt.show()"
      ],
      "execution_count": null,
      "outputs": []
    },
    {
      "cell_type": "code",
      "metadata": {
        "colab": {
          "base_uri": "https://localhost:8080/"
        },
        "id": "4QvpFJb5PiKp",
        "outputId": "9d60514c-2b5c-4db6-b6d9-22d70277bfb3"
      },
      "source": [
        "##Diferencias finitas\n",
        "def DFinitas(a,b,u0,un,e,M):\n",
        "  h= (b-a)/M\n",
        "  X= np.zeros(M+1)\n",
        "  X[0]=a\n",
        "\n",
        "  for i in range(M):\n",
        "    X[i+1]= X[i]+h\n",
        "  print(X)\n",
        "\n",
        "DFinitas(0,1,1,3,0.01,5)"
      ],
      "execution_count": null,
      "outputs": [
        {
          "output_type": "stream",
          "name": "stdout",
          "text": [
            "[0.  0.2 0.4 0.6 0.8 1. ]\n"
          ]
        }
      ]
    },
    {
      "cell_type": "code",
      "metadata": {
        "colab": {
          "base_uri": "https://localhost:8080/"
        },
        "id": "xirlZ8cETVCD",
        "outputId": "e71e2d3c-06de-47e4-b13f-80e526f4fc8a"
      },
      "source": [
        "##Diferencias finitas\n",
        "##DIFERENCIAS FINITAS EDO\n",
        "def DFinitas(a,b,u0,un,ep,M):\n",
        "  h=(b-a)/M\n",
        "  X=np.zeros(M+1)\n",
        "  A=np.zeros((M-1,M-1))\n",
        "  c=np.zeros(M-1)\n",
        "  d=np.zeros(M-1)\n",
        "  de=np.zeros(M-2)\n",
        "  db=np.zeros(M-2)\n",
        "  ljj= -2\n",
        "  ljj_1= 1-(h/(2*ep)) \n",
        "  lj1j= 1+(h/(2*ep))\n",
        "  fj= -(h**2/ep)\n",
        "  X[0]=a\n",
        "  c[0]= fj-lj1j\n",
        "  c[M-2]=fj-3*ljj_1\n",
        "  c[1:M-2]= fj\n",
        "  U=np.zeros(M+1)\n",
        "  U[0]=u0\n",
        "  U[M]=un\n",
        "\n",
        "  for i in range(M-1):\n",
        "    d[i]= ljj\n",
        "  for j in range(M-2):\n",
        "    de[j]= ljj_1\n",
        "    db[j]= lj1j\n",
        "  for i in range(M):\n",
        "    X[i+1]= X[i]+h\n",
        "\n",
        "  Error = np.zeros(M+1)\n",
        "  Datos = []\n",
        "  matriz= np.diag(d) + np.diag(de, 1) + np.diag(db, -1)\n",
        "  d= np.linalg.solve(matriz,c)\n",
        "  for i in range(M-1):\n",
        "    U[i+1]=d[i]\n",
        "  for i in range(M+1):\n",
        "    Error[i] = abs(U[i]-sol3(X[i],ep))\n",
        "    Datos.append([X[i],U[i],Error[i], sol3(X[i],ep)])\n",
        "  Datos = pd.DataFrame(Datos).set_axis(['X','U aprox','Error', 'U'], axis=1)\n",
        "  return X, U\n",
        "\n",
        "DFinitas(0,1,1,3,0.01,4)\n"
      ],
      "execution_count": null,
      "outputs": [
        {
          "output_type": "execute_result",
          "data": {
            "text/plain": [
              "(array([0.  , 0.25, 0.5 , 0.75, 1.  ]),\n",
              " array([ 1.        , -1.16792528,  1.92050874, -1.16156598,  3.        ]))"
            ]
          },
          "metadata": {},
          "execution_count": 6
        }
      ]
    },
    {
      "cell_type": "code",
      "metadata": {
        "colab": {
          "base_uri": "https://localhost:8080/"
        },
        "id": "SWEk_nQyzgJu",
        "outputId": "3f481da5-218e-4c67-d94b-4e204f00834d"
      },
      "source": [
        "def finitas(a,b,u0,un,ep,M):\n",
        "  h=(b-a)/M\n",
        "  X=np.zeros(M+1)\n",
        "  A=np.zeros((M-1,M-1))\n",
        "  c=np.zeros(M-1)\n",
        "  d=np.zeros(M-1)\n",
        "  de=np.zeros(M-2)\n",
        "  db=np.zeros(M-2)\n",
        "  ljj= -2\n",
        "  ljj_1= 1-(h/(2*ep)) \n",
        "  lj1j= 1+(h/(2*ep))\n",
        "  fj= -(h**2/ep)\n",
        "  X[0]=a\n",
        "  c[0]= fj-lj1j\n",
        "  c[M-2]=fj-3*ljj_1\n",
        "  c[1:M-2]= fj\n",
        "  U=np.zeros(M+1)\n",
        "  U[0]=u0\n",
        "  U[M]=un\n",
        "\n",
        "  for i in range(M-1):\n",
        "    d[i]= ljj\n",
        "  for j in range(M-2):\n",
        "    de[j]= ljj_1\n",
        "    db[j]= lj1j\n",
        "  for i in range(M):\n",
        "    X[i+1]= X[i]+h\n",
        "    l= sol3(X[i],ep)\n",
        "\n",
        "  matriz= np.diag(d) + np.diag(de, 1) + np.diag(db, -1)\n",
        "  d= np.linalg.solve(matriz,c)\n",
        "  for i in range(M-1):\n",
        "    U[i+1]=d[i]\n",
        "  return X,U\n",
        "finitas(0,1,1,3,0.1,2)"
      ],
      "execution_count": null,
      "outputs": [
        {
          "output_type": "execute_result",
          "data": {
            "text/plain": [
              "(array([0. , 0.5, 1. ]), array([ 1., -1.,  3.]))"
            ]
          },
          "metadata": {},
          "execution_count": 10
        }
      ]
    },
    {
      "cell_type": "code",
      "metadata": {
        "id": "bW12RUYxyfUp"
      },
      "source": [],
      "execution_count": null,
      "outputs": []
    }
  ]
}